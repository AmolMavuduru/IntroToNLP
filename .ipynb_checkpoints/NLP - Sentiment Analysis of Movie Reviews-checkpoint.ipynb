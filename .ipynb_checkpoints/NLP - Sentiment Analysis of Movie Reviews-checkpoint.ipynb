{
 "cells": [
  {
   "cell_type": "markdown",
   "metadata": {
    "collapsed": true
   },
   "source": [
    "# Introduction to Natural Language Processing (NLP)\n",
    "This Jupyter notebook was created for the 2018 AIS Natural Language Processing Workshop for the 2018 AI Conference at UT Dallas and focuses on using NLP techniques to build a sentiment classifier using data from 50,000 movie reviews."
   ]
  },
  {
   "cell_type": "markdown",
   "metadata": {},
   "source": [
    "## What is Natural Language Processing?\n",
    "Natural language processing, often abbreviated as NLP, is a broad area of artificial intelligence concerned with allowing machines to process and extract meaning from large amounts of human language data. There are many tasks in natural language processing, but in this workshop, we will be focusing primarily on feature extraction from text data and sentiment analysis. "
   ]
  },
  {
   "cell_type": "markdown",
   "metadata": {},
   "source": [
    "## Importing Libraries"
   ]
  },
  {
   "cell_type": "code",
   "execution_count": 1,
   "metadata": {
    "collapsed": true
   },
   "outputs": [],
   "source": [
    "import numpy as np # for linear algebra\n",
    "import pandas as pd # for CSV file I/O and data manipulation\n",
    "import sklearn # for machine learning\n",
    "import nltk # for natural language processing utilities\n",
    "import matplotlib.pyplot as plt\n",
    "%matplotlib inline"
   ]
  },
  {
   "cell_type": "markdown",
   "metadata": {},
   "source": [
    "## Reading in the Data - IMDb Movie Reviews Dataset\n",
    "We will be using a dataset of 50,000 movie reviews that was used in a Stanford paper titled \"Learning Word Vectors for Sentiment Analysis\". If you are interested, you can find the paper here: http://ai.stanford.edu/~ang/papers/acl11-WordVectorsSentimentAnalysis.pdf\n",
    "The original dataset, formatted as a CSV file, is included in the repository for this workshop, but you can also download the original dataset from http://ai.stanford.edu/~amaas/data/sentiment/ as a zip archive. Let's start by reading in the data as a dataframe object using the **read_csv** function from the **Pandas** library."
   ]
  },
  {
   "cell_type": "code",
   "execution_count": 2,
   "metadata": {
    "collapsed": false
   },
   "outputs": [
    {
     "data": {
      "text/html": [
       "<div>\n",
       "<style scoped>\n",
       "    .dataframe tbody tr th:only-of-type {\n",
       "        vertical-align: middle;\n",
       "    }\n",
       "\n",
       "    .dataframe tbody tr th {\n",
       "        vertical-align: top;\n",
       "    }\n",
       "\n",
       "    .dataframe thead th {\n",
       "        text-align: right;\n",
       "    }\n",
       "</style>\n",
       "<table border=\"1\" class=\"dataframe\">\n",
       "  <thead>\n",
       "    <tr style=\"text-align: right;\">\n",
       "      <th></th>\n",
       "      <th>review</th>\n",
       "      <th>sentiment</th>\n",
       "    </tr>\n",
       "  </thead>\n",
       "  <tbody>\n",
       "    <tr>\n",
       "      <th>0</th>\n",
       "      <td>In 1974, the teenager Martha Moxley (Maggie Gr...</td>\n",
       "      <td>1</td>\n",
       "    </tr>\n",
       "    <tr>\n",
       "      <th>1</th>\n",
       "      <td>OK... so... I really like Kris Kristofferson a...</td>\n",
       "      <td>0</td>\n",
       "    </tr>\n",
       "    <tr>\n",
       "      <th>2</th>\n",
       "      <td>***SPOILER*** Do not read this, if you think a...</td>\n",
       "      <td>0</td>\n",
       "    </tr>\n",
       "    <tr>\n",
       "      <th>3</th>\n",
       "      <td>hi for all the people who have seen this wonde...</td>\n",
       "      <td>1</td>\n",
       "    </tr>\n",
       "    <tr>\n",
       "      <th>4</th>\n",
       "      <td>I recently bought the DVD, forgetting just how...</td>\n",
       "      <td>0</td>\n",
       "    </tr>\n",
       "    <tr>\n",
       "      <th>5</th>\n",
       "      <td>Leave it to Braik to put on a good show. Final...</td>\n",
       "      <td>1</td>\n",
       "    </tr>\n",
       "    <tr>\n",
       "      <th>6</th>\n",
       "      <td>Nathan Detroit (Frank Sinatra) is the manager ...</td>\n",
       "      <td>1</td>\n",
       "    </tr>\n",
       "    <tr>\n",
       "      <th>7</th>\n",
       "      <td>To understand \"Crash Course\" in the right cont...</td>\n",
       "      <td>1</td>\n",
       "    </tr>\n",
       "    <tr>\n",
       "      <th>8</th>\n",
       "      <td>I've been impressed with Chavez's stance again...</td>\n",
       "      <td>1</td>\n",
       "    </tr>\n",
       "    <tr>\n",
       "      <th>9</th>\n",
       "      <td>This movie is directed by Renny Harlin the fin...</td>\n",
       "      <td>1</td>\n",
       "    </tr>\n",
       "  </tbody>\n",
       "</table>\n",
       "</div>"
      ],
      "text/plain": [
       "                                              review  sentiment\n",
       "0  In 1974, the teenager Martha Moxley (Maggie Gr...          1\n",
       "1  OK... so... I really like Kris Kristofferson a...          0\n",
       "2  ***SPOILER*** Do not read this, if you think a...          0\n",
       "3  hi for all the people who have seen this wonde...          1\n",
       "4  I recently bought the DVD, forgetting just how...          0\n",
       "5  Leave it to Braik to put on a good show. Final...          1\n",
       "6  Nathan Detroit (Frank Sinatra) is the manager ...          1\n",
       "7  To understand \"Crash Course\" in the right cont...          1\n",
       "8  I've been impressed with Chavez's stance again...          1\n",
       "9  This movie is directed by Renny Harlin the fin...          1"
      ]
     },
     "execution_count": 2,
     "metadata": {},
     "output_type": "execute_result"
    }
   ],
   "source": [
    "data = pd.read_csv('stanford_movie_data.csv') #pass in the name of the file\n",
    "data.head(10) #looks at the first ten rows of the dataframe"
   ]
  },
  {
   "cell_type": "markdown",
   "metadata": {},
   "source": [
    "As we can see above, our dataset contains a series of reviews, with the sentiment of each review provided in the **sentiment** column. If we want to get some information about our dataframe, we can use the **info()** function."
   ]
  },
  {
   "cell_type": "code",
   "execution_count": 3,
   "metadata": {
    "collapsed": false
   },
   "outputs": [
    {
     "name": "stdout",
     "output_type": "stream",
     "text": [
      "<class 'pandas.core.frame.DataFrame'>\n",
      "RangeIndex: 50000 entries, 0 to 49999\n",
      "Data columns (total 2 columns):\n",
      "review       50000 non-null object\n",
      "sentiment    50000 non-null int64\n",
      "dtypes: int64(1), object(1)\n",
      "memory usage: 781.3+ KB\n"
     ]
    }
   ],
   "source": [
    "data.info()"
   ]
  },
  {
   "cell_type": "markdown",
   "metadata": {},
   "source": [
    "Based on the output above, we can confirm that our data contains 50,000 entries, with two columns, and we can even get an estimate of how much space our dataframe consumes in memory."
   ]
  },
  {
   "cell_type": "markdown",
   "metadata": {
    "collapsed": true
   },
   "source": [
    "## DataFrame Basics\n",
    "Pandas dataframes are really useful tools for working with data because we can easily query the data and perform operations on the data."
   ]
  },
  {
   "cell_type": "markdown",
   "metadata": {},
   "source": [
    "### Accessing Specific Columns\n",
    "We can use the following syntax to access specific columns of the dataframe."
   ]
  },
  {
   "cell_type": "code",
   "execution_count": 4,
   "metadata": {
    "collapsed": false
   },
   "outputs": [
    {
     "data": {
      "text/plain": [
       "0        In 1974, the teenager Martha Moxley (Maggie Gr...\n",
       "1        OK... so... I really like Kris Kristofferson a...\n",
       "2        ***SPOILER*** Do not read this, if you think a...\n",
       "3        hi for all the people who have seen this wonde...\n",
       "4        I recently bought the DVD, forgetting just how...\n",
       "5        Leave it to Braik to put on a good show. Final...\n",
       "6        Nathan Detroit (Frank Sinatra) is the manager ...\n",
       "7        To understand \"Crash Course\" in the right cont...\n",
       "8        I've been impressed with Chavez's stance again...\n",
       "9        This movie is directed by Renny Harlin the fin...\n",
       "10       I once lived in the u.p and let me tell you wh...\n",
       "11       Hidden Frontier is notable for being the longe...\n",
       "12       It's a while ago, that I have seen Sleuth (197...\n",
       "13       What is it about the French? First, they (appa...\n",
       "14       This very strange movie is unlike anything mad...\n",
       "15       I saw this movie on the strength of the single...\n",
       "16       There are some great philosophical questions. ...\n",
       "17       I was cast as the Surfer Dude in the beach sce...\n",
       "18       I had high hopes for this one until they chang...\n",
       "19       Set in and near a poor working class town in t...\n",
       "20       Opulent sets and sumptuous costumes well photo...\n",
       "21       i saw the film and i got screwed, because the ...\n",
       "22       I'm getting a little tired of people misusing ...\n",
       "23       How offensive! Those who liked this movie have...\n",
       "24       What else can you say about this movie,except ...\n",
       "25       Certain aspects of Punishment Park are less th...\n",
       "26       First of all, I'd like to tell you that I'm in...\n",
       "27       You should not take what I am about to say lig...\n",
       "28       I love the Jurassic Park movies, they are thre...\n",
       "29       The first series of Lost kicked off with a ban...\n",
       "                               ...                        \n",
       "49970    Tom Fontana's unforgettable \"Oz\" is hands down...\n",
       "49971    Last weekend I bought this 'zombie movie' from...\n",
       "49972    I watched the first few moments on TCM a few y...\n",
       "49973    I saw this movie for the first time in 1988 wh...\n",
       "49974    Al Pacino? Kim Basinger? Tea Leoni? Ryan O'Nea...\n",
       "49975    Stanwyck at her villainous best, Robinson her ...\n",
       "49976    An allegation of aggravated sexual assault alo...\n",
       "49977    i thought this movie was wonderfully plotted i...\n",
       "49978    Just like most people, I couldn't wait to see ...\n",
       "49979    Dark comedy? Gallows humor? How does one make ...\n",
       "49980    ****Probably will contain spoilers****<br /><b...\n",
       "49981    I must be that one guy in America that didn't ...\n",
       "49982    THE PLOT: A trucker (Kristofferson) battles a ...\n",
       "49983    The Ladies Man is laugh out loud funny, with a...\n",
       "49984    Well, the artyfartyrati of Cannes may have lik...\n",
       "49985    The director was probably still in his early l...\n",
       "49986    You know when you're on the bus and someone de...\n",
       "49987    Five minutes into this movie you realize that ...\n",
       "49988    ...If you've been laughing too much for a long...\n",
       "49989    I love dissing this movie. My peers always try...\n",
       "49990    OK. I think the TV show is kind of cute and it...\n",
       "49991    Big disappointment. CLASH BY NIGHT is much to ...\n",
       "49992    Cassidy(Kacia Brady)puts a gun in her mouth bl...\n",
       "49993    With rapid intercutting of scenes of insane pe...\n",
       "49994    When \"Girlfight\" came out, the reviews praised...\n",
       "49995    OK, lets start with the best. the building. al...\n",
       "49996    The British 'heritage film' industry is out of...\n",
       "49997    I don't even know where to begin on this one. ...\n",
       "49998    Richard Tyler is a little boy who is scared of...\n",
       "49999    I waited long to watch this movie. Also becaus...\n",
       "Name: review, Length: 50000, dtype: object"
      ]
     },
     "execution_count": 4,
     "metadata": {},
     "output_type": "execute_result"
    }
   ],
   "source": [
    "data['review'] # Gets the review column of the data"
   ]
  },
  {
   "cell_type": "code",
   "execution_count": 5,
   "metadata": {
    "collapsed": false
   },
   "outputs": [
    {
     "data": {
      "text/plain": [
       "0        1\n",
       "1        0\n",
       "2        0\n",
       "3        1\n",
       "4        0\n",
       "5        1\n",
       "6        1\n",
       "7        1\n",
       "8        1\n",
       "9        1\n",
       "10       0\n",
       "11       1\n",
       "12       0\n",
       "13       0\n",
       "14       1\n",
       "15       0\n",
       "16       0\n",
       "17       1\n",
       "18       0\n",
       "19       1\n",
       "20       0\n",
       "21       0\n",
       "22       0\n",
       "23       0\n",
       "24       0\n",
       "25       1\n",
       "26       0\n",
       "27       1\n",
       "28       0\n",
       "29       1\n",
       "        ..\n",
       "49970    1\n",
       "49971    0\n",
       "49972    1\n",
       "49973    1\n",
       "49974    0\n",
       "49975    1\n",
       "49976    0\n",
       "49977    1\n",
       "49978    0\n",
       "49979    1\n",
       "49980    0\n",
       "49981    0\n",
       "49982    0\n",
       "49983    1\n",
       "49984    0\n",
       "49985    0\n",
       "49986    0\n",
       "49987    0\n",
       "49988    0\n",
       "49989    0\n",
       "49990    0\n",
       "49991    0\n",
       "49992    0\n",
       "49993    1\n",
       "49994    1\n",
       "49995    0\n",
       "49996    0\n",
       "49997    0\n",
       "49998    0\n",
       "49999    1\n",
       "Name: sentiment, Length: 50000, dtype: int64"
      ]
     },
     "execution_count": 5,
     "metadata": {},
     "output_type": "execute_result"
    }
   ],
   "source": [
    "data['sentiment'] # Gets the sentiment column of the data"
   ]
  },
  {
   "cell_type": "markdown",
   "metadata": {},
   "source": [
    "### Indexing/Slicing a Dataframe\n",
    "If we want to get a specific row of a dataframe, we can use the following syntax."
   ]
  },
  {
   "cell_type": "code",
   "execution_count": 6,
   "metadata": {
    "collapsed": false
   },
   "outputs": [
    {
     "data": {
      "text/plain": [
       "review       In 1974, the teenager Martha Moxley (Maggie Gr...\n",
       "sentiment                                                    1\n",
       "Name: 0, dtype: object"
      ]
     },
     "execution_count": 6,
     "metadata": {},
     "output_type": "execute_result"
    }
   ],
   "source": [
    "data.iloc[0] # Grabs the first row of the dataframe"
   ]
  },
  {
   "cell_type": "code",
   "execution_count": 7,
   "metadata": {
    "collapsed": false
   },
   "outputs": [
    {
     "data": {
      "text/html": [
       "<div>\n",
       "<style scoped>\n",
       "    .dataframe tbody tr th:only-of-type {\n",
       "        vertical-align: middle;\n",
       "    }\n",
       "\n",
       "    .dataframe tbody tr th {\n",
       "        vertical-align: top;\n",
       "    }\n",
       "\n",
       "    .dataframe thead th {\n",
       "        text-align: right;\n",
       "    }\n",
       "</style>\n",
       "<table border=\"1\" class=\"dataframe\">\n",
       "  <thead>\n",
       "    <tr style=\"text-align: right;\">\n",
       "      <th></th>\n",
       "      <th>review</th>\n",
       "      <th>sentiment</th>\n",
       "    </tr>\n",
       "  </thead>\n",
       "  <tbody>\n",
       "    <tr>\n",
       "      <th>0</th>\n",
       "      <td>In 1974, the teenager Martha Moxley (Maggie Gr...</td>\n",
       "      <td>1</td>\n",
       "    </tr>\n",
       "    <tr>\n",
       "      <th>1</th>\n",
       "      <td>OK... so... I really like Kris Kristofferson a...</td>\n",
       "      <td>0</td>\n",
       "    </tr>\n",
       "    <tr>\n",
       "      <th>2</th>\n",
       "      <td>***SPOILER*** Do not read this, if you think a...</td>\n",
       "      <td>0</td>\n",
       "    </tr>\n",
       "    <tr>\n",
       "      <th>3</th>\n",
       "      <td>hi for all the people who have seen this wonde...</td>\n",
       "      <td>1</td>\n",
       "    </tr>\n",
       "    <tr>\n",
       "      <th>4</th>\n",
       "      <td>I recently bought the DVD, forgetting just how...</td>\n",
       "      <td>0</td>\n",
       "    </tr>\n",
       "    <tr>\n",
       "      <th>5</th>\n",
       "      <td>Leave it to Braik to put on a good show. Final...</td>\n",
       "      <td>1</td>\n",
       "    </tr>\n",
       "    <tr>\n",
       "      <th>6</th>\n",
       "      <td>Nathan Detroit (Frank Sinatra) is the manager ...</td>\n",
       "      <td>1</td>\n",
       "    </tr>\n",
       "    <tr>\n",
       "      <th>7</th>\n",
       "      <td>To understand \"Crash Course\" in the right cont...</td>\n",
       "      <td>1</td>\n",
       "    </tr>\n",
       "    <tr>\n",
       "      <th>8</th>\n",
       "      <td>I've been impressed with Chavez's stance again...</td>\n",
       "      <td>1</td>\n",
       "    </tr>\n",
       "    <tr>\n",
       "      <th>9</th>\n",
       "      <td>This movie is directed by Renny Harlin the fin...</td>\n",
       "      <td>1</td>\n",
       "    </tr>\n",
       "    <tr>\n",
       "      <th>10</th>\n",
       "      <td>I once lived in the u.p and let me tell you wh...</td>\n",
       "      <td>0</td>\n",
       "    </tr>\n",
       "    <tr>\n",
       "      <th>11</th>\n",
       "      <td>Hidden Frontier is notable for being the longe...</td>\n",
       "      <td>1</td>\n",
       "    </tr>\n",
       "    <tr>\n",
       "      <th>12</th>\n",
       "      <td>It's a while ago, that I have seen Sleuth (197...</td>\n",
       "      <td>0</td>\n",
       "    </tr>\n",
       "    <tr>\n",
       "      <th>13</th>\n",
       "      <td>What is it about the French? First, they (appa...</td>\n",
       "      <td>0</td>\n",
       "    </tr>\n",
       "    <tr>\n",
       "      <th>14</th>\n",
       "      <td>This very strange movie is unlike anything mad...</td>\n",
       "      <td>1</td>\n",
       "    </tr>\n",
       "    <tr>\n",
       "      <th>15</th>\n",
       "      <td>I saw this movie on the strength of the single...</td>\n",
       "      <td>0</td>\n",
       "    </tr>\n",
       "    <tr>\n",
       "      <th>16</th>\n",
       "      <td>There are some great philosophical questions. ...</td>\n",
       "      <td>0</td>\n",
       "    </tr>\n",
       "    <tr>\n",
       "      <th>17</th>\n",
       "      <td>I was cast as the Surfer Dude in the beach sce...</td>\n",
       "      <td>1</td>\n",
       "    </tr>\n",
       "    <tr>\n",
       "      <th>18</th>\n",
       "      <td>I had high hopes for this one until they chang...</td>\n",
       "      <td>0</td>\n",
       "    </tr>\n",
       "    <tr>\n",
       "      <th>19</th>\n",
       "      <td>Set in and near a poor working class town in t...</td>\n",
       "      <td>1</td>\n",
       "    </tr>\n",
       "    <tr>\n",
       "      <th>20</th>\n",
       "      <td>Opulent sets and sumptuous costumes well photo...</td>\n",
       "      <td>0</td>\n",
       "    </tr>\n",
       "    <tr>\n",
       "      <th>21</th>\n",
       "      <td>i saw the film and i got screwed, because the ...</td>\n",
       "      <td>0</td>\n",
       "    </tr>\n",
       "    <tr>\n",
       "      <th>22</th>\n",
       "      <td>I'm getting a little tired of people misusing ...</td>\n",
       "      <td>0</td>\n",
       "    </tr>\n",
       "    <tr>\n",
       "      <th>23</th>\n",
       "      <td>How offensive! Those who liked this movie have...</td>\n",
       "      <td>0</td>\n",
       "    </tr>\n",
       "    <tr>\n",
       "      <th>24</th>\n",
       "      <td>What else can you say about this movie,except ...</td>\n",
       "      <td>0</td>\n",
       "    </tr>\n",
       "    <tr>\n",
       "      <th>25</th>\n",
       "      <td>Certain aspects of Punishment Park are less th...</td>\n",
       "      <td>1</td>\n",
       "    </tr>\n",
       "    <tr>\n",
       "      <th>26</th>\n",
       "      <td>First of all, I'd like to tell you that I'm in...</td>\n",
       "      <td>0</td>\n",
       "    </tr>\n",
       "    <tr>\n",
       "      <th>27</th>\n",
       "      <td>You should not take what I am about to say lig...</td>\n",
       "      <td>1</td>\n",
       "    </tr>\n",
       "    <tr>\n",
       "      <th>28</th>\n",
       "      <td>I love the Jurassic Park movies, they are thre...</td>\n",
       "      <td>0</td>\n",
       "    </tr>\n",
       "    <tr>\n",
       "      <th>29</th>\n",
       "      <td>The first series of Lost kicked off with a ban...</td>\n",
       "      <td>1</td>\n",
       "    </tr>\n",
       "    <tr>\n",
       "      <th>30</th>\n",
       "      <td>I first saw this movie on a local station on t...</td>\n",
       "      <td>1</td>\n",
       "    </tr>\n",
       "    <tr>\n",
       "      <th>31</th>\n",
       "      <td>I have read a lot of books in my short lifetim...</td>\n",
       "      <td>0</td>\n",
       "    </tr>\n",
       "    <tr>\n",
       "      <th>32</th>\n",
       "      <td>The Shining starts with Jack Torrance (Jack Ni...</td>\n",
       "      <td>1</td>\n",
       "    </tr>\n",
       "    <tr>\n",
       "      <th>33</th>\n",
       "      <td>The story is extremely unique.It's about these...</td>\n",
       "      <td>1</td>\n",
       "    </tr>\n",
       "    <tr>\n",
       "      <th>34</th>\n",
       "      <td>I guess those who have been in a one-sided rel...</td>\n",
       "      <td>1</td>\n",
       "    </tr>\n",
       "    <tr>\n",
       "      <th>35</th>\n",
       "      <td>Cates is insipid and unconvincing, Kline over-...</td>\n",
       "      <td>0</td>\n",
       "    </tr>\n",
       "    <tr>\n",
       "      <th>36</th>\n",
       "      <td>I am so excited that Greek is back! This seaso...</td>\n",
       "      <td>1</td>\n",
       "    </tr>\n",
       "    <tr>\n",
       "      <th>37</th>\n",
       "      <td>I wanted to watch this, to get a inside look a...</td>\n",
       "      <td>1</td>\n",
       "    </tr>\n",
       "    <tr>\n",
       "      <th>38</th>\n",
       "      <td>Imagine yourself trapped inside a museum of th...</td>\n",
       "      <td>0</td>\n",
       "    </tr>\n",
       "    <tr>\n",
       "      <th>39</th>\n",
       "      <td>SKELETON MAN was okay for the first 5 minutes ...</td>\n",
       "      <td>0</td>\n",
       "    </tr>\n",
       "    <tr>\n",
       "      <th>40</th>\n",
       "      <td>\"COSBY,\" in my opinion, is a must-see CBS hit!...</td>\n",
       "      <td>1</td>\n",
       "    </tr>\n",
       "    <tr>\n",
       "      <th>41</th>\n",
       "      <td>Just as the new BSG wasn't what fans of the or...</td>\n",
       "      <td>1</td>\n",
       "    </tr>\n",
       "    <tr>\n",
       "      <th>42</th>\n",
       "      <td>This is a big step down after the surprisingly...</td>\n",
       "      <td>0</td>\n",
       "    </tr>\n",
       "    <tr>\n",
       "      <th>43</th>\n",
       "      <td>The only possible way to enjoy this flick is t...</td>\n",
       "      <td>0</td>\n",
       "    </tr>\n",
       "    <tr>\n",
       "      <th>44</th>\n",
       "      <td>This is the kind of film they used to make, am...</td>\n",
       "      <td>1</td>\n",
       "    </tr>\n",
       "    <tr>\n",
       "      <th>45</th>\n",
       "      <td>Unlike some movies which you can wonder around...</td>\n",
       "      <td>1</td>\n",
       "    </tr>\n",
       "    <tr>\n",
       "      <th>46</th>\n",
       "      <td>\"Dahmer\" is an interesting film although I wou...</td>\n",
       "      <td>0</td>\n",
       "    </tr>\n",
       "    <tr>\n",
       "      <th>47</th>\n",
       "      <td>This was obviously a low budget film. It shows...</td>\n",
       "      <td>0</td>\n",
       "    </tr>\n",
       "    <tr>\n",
       "      <th>48</th>\n",
       "      <td>I just found the entire 3 DVD set at Wal-Mart ...</td>\n",
       "      <td>1</td>\n",
       "    </tr>\n",
       "    <tr>\n",
       "      <th>49</th>\n",
       "      <td>If you want to watch a film that is oddly shot...</td>\n",
       "      <td>0</td>\n",
       "    </tr>\n",
       "  </tbody>\n",
       "</table>\n",
       "</div>"
      ],
      "text/plain": [
       "                                               review  sentiment\n",
       "0   In 1974, the teenager Martha Moxley (Maggie Gr...          1\n",
       "1   OK... so... I really like Kris Kristofferson a...          0\n",
       "2   ***SPOILER*** Do not read this, if you think a...          0\n",
       "3   hi for all the people who have seen this wonde...          1\n",
       "4   I recently bought the DVD, forgetting just how...          0\n",
       "5   Leave it to Braik to put on a good show. Final...          1\n",
       "6   Nathan Detroit (Frank Sinatra) is the manager ...          1\n",
       "7   To understand \"Crash Course\" in the right cont...          1\n",
       "8   I've been impressed with Chavez's stance again...          1\n",
       "9   This movie is directed by Renny Harlin the fin...          1\n",
       "10  I once lived in the u.p and let me tell you wh...          0\n",
       "11  Hidden Frontier is notable for being the longe...          1\n",
       "12  It's a while ago, that I have seen Sleuth (197...          0\n",
       "13  What is it about the French? First, they (appa...          0\n",
       "14  This very strange movie is unlike anything mad...          1\n",
       "15  I saw this movie on the strength of the single...          0\n",
       "16  There are some great philosophical questions. ...          0\n",
       "17  I was cast as the Surfer Dude in the beach sce...          1\n",
       "18  I had high hopes for this one until they chang...          0\n",
       "19  Set in and near a poor working class town in t...          1\n",
       "20  Opulent sets and sumptuous costumes well photo...          0\n",
       "21  i saw the film and i got screwed, because the ...          0\n",
       "22  I'm getting a little tired of people misusing ...          0\n",
       "23  How offensive! Those who liked this movie have...          0\n",
       "24  What else can you say about this movie,except ...          0\n",
       "25  Certain aspects of Punishment Park are less th...          1\n",
       "26  First of all, I'd like to tell you that I'm in...          0\n",
       "27  You should not take what I am about to say lig...          1\n",
       "28  I love the Jurassic Park movies, they are thre...          0\n",
       "29  The first series of Lost kicked off with a ban...          1\n",
       "30  I first saw this movie on a local station on t...          1\n",
       "31  I have read a lot of books in my short lifetim...          0\n",
       "32  The Shining starts with Jack Torrance (Jack Ni...          1\n",
       "33  The story is extremely unique.It's about these...          1\n",
       "34  I guess those who have been in a one-sided rel...          1\n",
       "35  Cates is insipid and unconvincing, Kline over-...          0\n",
       "36  I am so excited that Greek is back! This seaso...          1\n",
       "37  I wanted to watch this, to get a inside look a...          1\n",
       "38  Imagine yourself trapped inside a museum of th...          0\n",
       "39  SKELETON MAN was okay for the first 5 minutes ...          0\n",
       "40  \"COSBY,\" in my opinion, is a must-see CBS hit!...          1\n",
       "41  Just as the new BSG wasn't what fans of the or...          1\n",
       "42  This is a big step down after the surprisingly...          0\n",
       "43  The only possible way to enjoy this flick is t...          0\n",
       "44  This is the kind of film they used to make, am...          1\n",
       "45  Unlike some movies which you can wonder around...          1\n",
       "46  \"Dahmer\" is an interesting film although I wou...          0\n",
       "47  This was obviously a low budget film. It shows...          0\n",
       "48  I just found the entire 3 DVD set at Wal-Mart ...          1\n",
       "49  If you want to watch a film that is oddly shot...          0"
      ]
     },
     "execution_count": 7,
     "metadata": {},
     "output_type": "execute_result"
    }
   ],
   "source": [
    "data.iloc[0:50] # Grabs rows 0 to 49 of the dataframe"
   ]
  },
  {
   "cell_type": "markdown",
   "metadata": {},
   "source": [
    "### Selecting Data Based on Conditions\n",
    "We can also select rows of our data based on certain conditions."
   ]
  },
  {
   "cell_type": "code",
   "execution_count": 8,
   "metadata": {
    "collapsed": false
   },
   "outputs": [
    {
     "data": {
      "text/html": [
       "<div>\n",
       "<style scoped>\n",
       "    .dataframe tbody tr th:only-of-type {\n",
       "        vertical-align: middle;\n",
       "    }\n",
       "\n",
       "    .dataframe tbody tr th {\n",
       "        vertical-align: top;\n",
       "    }\n",
       "\n",
       "    .dataframe thead th {\n",
       "        text-align: right;\n",
       "    }\n",
       "</style>\n",
       "<table border=\"1\" class=\"dataframe\">\n",
       "  <thead>\n",
       "    <tr style=\"text-align: right;\">\n",
       "      <th></th>\n",
       "      <th>review</th>\n",
       "      <th>sentiment</th>\n",
       "    </tr>\n",
       "  </thead>\n",
       "  <tbody>\n",
       "    <tr>\n",
       "      <th>0</th>\n",
       "      <td>In 1974, the teenager Martha Moxley (Maggie Gr...</td>\n",
       "      <td>1</td>\n",
       "    </tr>\n",
       "    <tr>\n",
       "      <th>3</th>\n",
       "      <td>hi for all the people who have seen this wonde...</td>\n",
       "      <td>1</td>\n",
       "    </tr>\n",
       "    <tr>\n",
       "      <th>5</th>\n",
       "      <td>Leave it to Braik to put on a good show. Final...</td>\n",
       "      <td>1</td>\n",
       "    </tr>\n",
       "    <tr>\n",
       "      <th>6</th>\n",
       "      <td>Nathan Detroit (Frank Sinatra) is the manager ...</td>\n",
       "      <td>1</td>\n",
       "    </tr>\n",
       "    <tr>\n",
       "      <th>7</th>\n",
       "      <td>To understand \"Crash Course\" in the right cont...</td>\n",
       "      <td>1</td>\n",
       "    </tr>\n",
       "    <tr>\n",
       "      <th>8</th>\n",
       "      <td>I've been impressed with Chavez's stance again...</td>\n",
       "      <td>1</td>\n",
       "    </tr>\n",
       "    <tr>\n",
       "      <th>9</th>\n",
       "      <td>This movie is directed by Renny Harlin the fin...</td>\n",
       "      <td>1</td>\n",
       "    </tr>\n",
       "    <tr>\n",
       "      <th>11</th>\n",
       "      <td>Hidden Frontier is notable for being the longe...</td>\n",
       "      <td>1</td>\n",
       "    </tr>\n",
       "    <tr>\n",
       "      <th>14</th>\n",
       "      <td>This very strange movie is unlike anything mad...</td>\n",
       "      <td>1</td>\n",
       "    </tr>\n",
       "    <tr>\n",
       "      <th>17</th>\n",
       "      <td>I was cast as the Surfer Dude in the beach sce...</td>\n",
       "      <td>1</td>\n",
       "    </tr>\n",
       "    <tr>\n",
       "      <th>19</th>\n",
       "      <td>Set in and near a poor working class town in t...</td>\n",
       "      <td>1</td>\n",
       "    </tr>\n",
       "    <tr>\n",
       "      <th>25</th>\n",
       "      <td>Certain aspects of Punishment Park are less th...</td>\n",
       "      <td>1</td>\n",
       "    </tr>\n",
       "    <tr>\n",
       "      <th>27</th>\n",
       "      <td>You should not take what I am about to say lig...</td>\n",
       "      <td>1</td>\n",
       "    </tr>\n",
       "    <tr>\n",
       "      <th>29</th>\n",
       "      <td>The first series of Lost kicked off with a ban...</td>\n",
       "      <td>1</td>\n",
       "    </tr>\n",
       "    <tr>\n",
       "      <th>30</th>\n",
       "      <td>I first saw this movie on a local station on t...</td>\n",
       "      <td>1</td>\n",
       "    </tr>\n",
       "    <tr>\n",
       "      <th>32</th>\n",
       "      <td>The Shining starts with Jack Torrance (Jack Ni...</td>\n",
       "      <td>1</td>\n",
       "    </tr>\n",
       "    <tr>\n",
       "      <th>33</th>\n",
       "      <td>The story is extremely unique.It's about these...</td>\n",
       "      <td>1</td>\n",
       "    </tr>\n",
       "    <tr>\n",
       "      <th>34</th>\n",
       "      <td>I guess those who have been in a one-sided rel...</td>\n",
       "      <td>1</td>\n",
       "    </tr>\n",
       "    <tr>\n",
       "      <th>36</th>\n",
       "      <td>I am so excited that Greek is back! This seaso...</td>\n",
       "      <td>1</td>\n",
       "    </tr>\n",
       "    <tr>\n",
       "      <th>37</th>\n",
       "      <td>I wanted to watch this, to get a inside look a...</td>\n",
       "      <td>1</td>\n",
       "    </tr>\n",
       "    <tr>\n",
       "      <th>40</th>\n",
       "      <td>\"COSBY,\" in my opinion, is a must-see CBS hit!...</td>\n",
       "      <td>1</td>\n",
       "    </tr>\n",
       "    <tr>\n",
       "      <th>41</th>\n",
       "      <td>Just as the new BSG wasn't what fans of the or...</td>\n",
       "      <td>1</td>\n",
       "    </tr>\n",
       "    <tr>\n",
       "      <th>44</th>\n",
       "      <td>This is the kind of film they used to make, am...</td>\n",
       "      <td>1</td>\n",
       "    </tr>\n",
       "    <tr>\n",
       "      <th>45</th>\n",
       "      <td>Unlike some movies which you can wonder around...</td>\n",
       "      <td>1</td>\n",
       "    </tr>\n",
       "    <tr>\n",
       "      <th>48</th>\n",
       "      <td>I just found the entire 3 DVD set at Wal-Mart ...</td>\n",
       "      <td>1</td>\n",
       "    </tr>\n",
       "    <tr>\n",
       "      <th>50</th>\n",
       "      <td>after my daughter was born in 1983, i needed t...</td>\n",
       "      <td>1</td>\n",
       "    </tr>\n",
       "    <tr>\n",
       "      <th>52</th>\n",
       "      <td>Manna From Heaven is a light comedy that uses ...</td>\n",
       "      <td>1</td>\n",
       "    </tr>\n",
       "    <tr>\n",
       "      <th>53</th>\n",
       "      <td>I would love to comment on this film. Alas , m...</td>\n",
       "      <td>1</td>\n",
       "    </tr>\n",
       "    <tr>\n",
       "      <th>54</th>\n",
       "      <td>If Jean Renoir's first film \"Whirlpool of Fate...</td>\n",
       "      <td>1</td>\n",
       "    </tr>\n",
       "    <tr>\n",
       "      <th>55</th>\n",
       "      <td>I had the pleasure to view this film when I wa...</td>\n",
       "      <td>1</td>\n",
       "    </tr>\n",
       "    <tr>\n",
       "      <th>...</th>\n",
       "      <td>...</td>\n",
       "      <td>...</td>\n",
       "    </tr>\n",
       "    <tr>\n",
       "      <th>49922</th>\n",
       "      <td>Many movies try to take universal themes and m...</td>\n",
       "      <td>1</td>\n",
       "    </tr>\n",
       "    <tr>\n",
       "      <th>49924</th>\n",
       "      <td>(WARNING: minor spoilers)&lt;br /&gt;&lt;br /&gt;I ran int...</td>\n",
       "      <td>1</td>\n",
       "    </tr>\n",
       "    <tr>\n",
       "      <th>49926</th>\n",
       "      <td>This may be one of the best movies I have ever...</td>\n",
       "      <td>1</td>\n",
       "    </tr>\n",
       "    <tr>\n",
       "      <th>49930</th>\n",
       "      <td>Family Guy has to be my all time favorite cart...</td>\n",
       "      <td>1</td>\n",
       "    </tr>\n",
       "    <tr>\n",
       "      <th>49932</th>\n",
       "      <td>One of my favorite shows back in the '70s. As ...</td>\n",
       "      <td>1</td>\n",
       "    </tr>\n",
       "    <tr>\n",
       "      <th>49933</th>\n",
       "      <td>&lt;br /&gt;&lt;br /&gt;Human Body --- WoW.&lt;br /&gt;&lt;br /&gt;The...</td>\n",
       "      <td>1</td>\n",
       "    </tr>\n",
       "    <tr>\n",
       "      <th>49939</th>\n",
       "      <td>\"Who Done It?\" contains many surefire laughs a...</td>\n",
       "      <td>1</td>\n",
       "    </tr>\n",
       "    <tr>\n",
       "      <th>49940</th>\n",
       "      <td>I would have rated the series a perfect 10 for...</td>\n",
       "      <td>1</td>\n",
       "    </tr>\n",
       "    <tr>\n",
       "      <th>49941</th>\n",
       "      <td>IMDb forces reviewers to type a certain amount...</td>\n",
       "      <td>1</td>\n",
       "    </tr>\n",
       "    <tr>\n",
       "      <th>49943</th>\n",
       "      <td>\"Ahh...I didn't order no amazing hit show\".......</td>\n",
       "      <td>1</td>\n",
       "    </tr>\n",
       "    <tr>\n",
       "      <th>49945</th>\n",
       "      <td>I find this movie the best movie I have ever s...</td>\n",
       "      <td>1</td>\n",
       "    </tr>\n",
       "    <tr>\n",
       "      <th>49949</th>\n",
       "      <td>The movie seemed a little slow at first. But i...</td>\n",
       "      <td>1</td>\n",
       "    </tr>\n",
       "    <tr>\n",
       "      <th>49950</th>\n",
       "      <td>Okay, this film probably deserves 7 out of 10 ...</td>\n",
       "      <td>1</td>\n",
       "    </tr>\n",
       "    <tr>\n",
       "      <th>49958</th>\n",
       "      <td>Shtrafbat is the story only Russians could tel...</td>\n",
       "      <td>1</td>\n",
       "    </tr>\n",
       "    <tr>\n",
       "      <th>49960</th>\n",
       "      <td>This is a phenomenal movie. Truly one of the b...</td>\n",
       "      <td>1</td>\n",
       "    </tr>\n",
       "    <tr>\n",
       "      <th>49961</th>\n",
       "      <td>\"Men of honor\" - true story about a proud and ...</td>\n",
       "      <td>1</td>\n",
       "    </tr>\n",
       "    <tr>\n",
       "      <th>49962</th>\n",
       "      <td>While browsing the internet for previous sale ...</td>\n",
       "      <td>1</td>\n",
       "    </tr>\n",
       "    <tr>\n",
       "      <th>49966</th>\n",
       "      <td>Typically, I'm a comedy guy. I rented this at ...</td>\n",
       "      <td>1</td>\n",
       "    </tr>\n",
       "    <tr>\n",
       "      <th>49967</th>\n",
       "      <td>Who won the best actress Oscar for 1933? It sh...</td>\n",
       "      <td>1</td>\n",
       "    </tr>\n",
       "    <tr>\n",
       "      <th>49968</th>\n",
       "      <td>The rise of punk music was scarcely documented...</td>\n",
       "      <td>1</td>\n",
       "    </tr>\n",
       "    <tr>\n",
       "      <th>49970</th>\n",
       "      <td>Tom Fontana's unforgettable \"Oz\" is hands down...</td>\n",
       "      <td>1</td>\n",
       "    </tr>\n",
       "    <tr>\n",
       "      <th>49972</th>\n",
       "      <td>I watched the first few moments on TCM a few y...</td>\n",
       "      <td>1</td>\n",
       "    </tr>\n",
       "    <tr>\n",
       "      <th>49973</th>\n",
       "      <td>I saw this movie for the first time in 1988 wh...</td>\n",
       "      <td>1</td>\n",
       "    </tr>\n",
       "    <tr>\n",
       "      <th>49975</th>\n",
       "      <td>Stanwyck at her villainous best, Robinson her ...</td>\n",
       "      <td>1</td>\n",
       "    </tr>\n",
       "    <tr>\n",
       "      <th>49977</th>\n",
       "      <td>i thought this movie was wonderfully plotted i...</td>\n",
       "      <td>1</td>\n",
       "    </tr>\n",
       "    <tr>\n",
       "      <th>49979</th>\n",
       "      <td>Dark comedy? Gallows humor? How does one make ...</td>\n",
       "      <td>1</td>\n",
       "    </tr>\n",
       "    <tr>\n",
       "      <th>49983</th>\n",
       "      <td>The Ladies Man is laugh out loud funny, with a...</td>\n",
       "      <td>1</td>\n",
       "    </tr>\n",
       "    <tr>\n",
       "      <th>49993</th>\n",
       "      <td>With rapid intercutting of scenes of insane pe...</td>\n",
       "      <td>1</td>\n",
       "    </tr>\n",
       "    <tr>\n",
       "      <th>49994</th>\n",
       "      <td>When \"Girlfight\" came out, the reviews praised...</td>\n",
       "      <td>1</td>\n",
       "    </tr>\n",
       "    <tr>\n",
       "      <th>49999</th>\n",
       "      <td>I waited long to watch this movie. Also becaus...</td>\n",
       "      <td>1</td>\n",
       "    </tr>\n",
       "  </tbody>\n",
       "</table>\n",
       "<p>25000 rows × 2 columns</p>\n",
       "</div>"
      ],
      "text/plain": [
       "                                                  review  sentiment\n",
       "0      In 1974, the teenager Martha Moxley (Maggie Gr...          1\n",
       "3      hi for all the people who have seen this wonde...          1\n",
       "5      Leave it to Braik to put on a good show. Final...          1\n",
       "6      Nathan Detroit (Frank Sinatra) is the manager ...          1\n",
       "7      To understand \"Crash Course\" in the right cont...          1\n",
       "8      I've been impressed with Chavez's stance again...          1\n",
       "9      This movie is directed by Renny Harlin the fin...          1\n",
       "11     Hidden Frontier is notable for being the longe...          1\n",
       "14     This very strange movie is unlike anything mad...          1\n",
       "17     I was cast as the Surfer Dude in the beach sce...          1\n",
       "19     Set in and near a poor working class town in t...          1\n",
       "25     Certain aspects of Punishment Park are less th...          1\n",
       "27     You should not take what I am about to say lig...          1\n",
       "29     The first series of Lost kicked off with a ban...          1\n",
       "30     I first saw this movie on a local station on t...          1\n",
       "32     The Shining starts with Jack Torrance (Jack Ni...          1\n",
       "33     The story is extremely unique.It's about these...          1\n",
       "34     I guess those who have been in a one-sided rel...          1\n",
       "36     I am so excited that Greek is back! This seaso...          1\n",
       "37     I wanted to watch this, to get a inside look a...          1\n",
       "40     \"COSBY,\" in my opinion, is a must-see CBS hit!...          1\n",
       "41     Just as the new BSG wasn't what fans of the or...          1\n",
       "44     This is the kind of film they used to make, am...          1\n",
       "45     Unlike some movies which you can wonder around...          1\n",
       "48     I just found the entire 3 DVD set at Wal-Mart ...          1\n",
       "50     after my daughter was born in 1983, i needed t...          1\n",
       "52     Manna From Heaven is a light comedy that uses ...          1\n",
       "53     I would love to comment on this film. Alas , m...          1\n",
       "54     If Jean Renoir's first film \"Whirlpool of Fate...          1\n",
       "55     I had the pleasure to view this film when I wa...          1\n",
       "...                                                  ...        ...\n",
       "49922  Many movies try to take universal themes and m...          1\n",
       "49924  (WARNING: minor spoilers)<br /><br />I ran int...          1\n",
       "49926  This may be one of the best movies I have ever...          1\n",
       "49930  Family Guy has to be my all time favorite cart...          1\n",
       "49932  One of my favorite shows back in the '70s. As ...          1\n",
       "49933  <br /><br />Human Body --- WoW.<br /><br />The...          1\n",
       "49939  \"Who Done It?\" contains many surefire laughs a...          1\n",
       "49940  I would have rated the series a perfect 10 for...          1\n",
       "49941  IMDb forces reviewers to type a certain amount...          1\n",
       "49943  \"Ahh...I didn't order no amazing hit show\".......          1\n",
       "49945  I find this movie the best movie I have ever s...          1\n",
       "49949  The movie seemed a little slow at first. But i...          1\n",
       "49950  Okay, this film probably deserves 7 out of 10 ...          1\n",
       "49958  Shtrafbat is the story only Russians could tel...          1\n",
       "49960  This is a phenomenal movie. Truly one of the b...          1\n",
       "49961  \"Men of honor\" - true story about a proud and ...          1\n",
       "49962  While browsing the internet for previous sale ...          1\n",
       "49966  Typically, I'm a comedy guy. I rented this at ...          1\n",
       "49967  Who won the best actress Oscar for 1933? It sh...          1\n",
       "49968  The rise of punk music was scarcely documented...          1\n",
       "49970  Tom Fontana's unforgettable \"Oz\" is hands down...          1\n",
       "49972  I watched the first few moments on TCM a few y...          1\n",
       "49973  I saw this movie for the first time in 1988 wh...          1\n",
       "49975  Stanwyck at her villainous best, Robinson her ...          1\n",
       "49977  i thought this movie was wonderfully plotted i...          1\n",
       "49979  Dark comedy? Gallows humor? How does one make ...          1\n",
       "49983  The Ladies Man is laugh out loud funny, with a...          1\n",
       "49993  With rapid intercutting of scenes of insane pe...          1\n",
       "49994  When \"Girlfight\" came out, the reviews praised...          1\n",
       "49999  I waited long to watch this movie. Also becaus...          1\n",
       "\n",
       "[25000 rows x 2 columns]"
      ]
     },
     "execution_count": 8,
     "metadata": {},
     "output_type": "execute_result"
    }
   ],
   "source": [
    "data[data['sentiment'] == 1] # Gets all positive reviews"
   ]
  },
  {
   "cell_type": "markdown",
   "metadata": {},
   "source": [
    "## Preprocessing Text Data"
   ]
  },
  {
   "cell_type": "markdown",
   "metadata": {},
   "source": [
    "Before we start working with NLP tools and actually getting into training machine learning algorithms, we need to preprocess the text data and remove unwanted characters such as HTML markup and punctuation. We can use Python's regex libary to do this. Just to show the an example of the effect of preprocessing, we can take a look at an entry in the review column before preprocessing and then after preprocessing."
   ]
  },
  {
   "cell_type": "code",
   "execution_count": 9,
   "metadata": {
    "collapsed": false
   },
   "outputs": [
    {
     "data": {
      "text/plain": [
       "'I recently bought the DVD, forgetting just how much I hated the movie version of \"A Chorus Line.\" Every change the director Attenborough made to the story failed.<br /><br />By making the Director-Cassie relationship so prominent, the entire ensemble-premise of the musical sails out the window.<br /><br />Some of the musical numbers are sped up and rushed. The show\\'s hit song gets the entire meaning shattered when it is given to Cassie\\'s character.<br /><br />The overall staging is very self-conscious.<br /><br />The only reason I give it a 2, is because a few of the great numbers are still able to be enjoyed despite the film\\'s attempt to squeeze every bit of joy and spontaneity out of it.'"
      ]
     },
     "execution_count": 9,
     "metadata": {},
     "output_type": "execute_result"
    }
   ],
   "source": [
    "data['review'][4]"
   ]
  },
  {
   "cell_type": "markdown",
   "metadata": {},
   "source": [
    "As we can see above, some of our reviews may have HTML characters and punctuation that we want to remove. Let's go ahead and define and run our preprocessing function on the review data."
   ]
  },
  {
   "cell_type": "code",
   "execution_count": 10,
   "metadata": {
    "collapsed": true
   },
   "outputs": [],
   "source": [
    "import re # regex library\n",
    "def preprocessor(text):\n",
    "    text = re.sub('<[^>]*>', '', text) # Effectively removes HTML markup tags\n",
    "    emoticons = re.findall('(?::|;|=)(?:-)?(?:\\)|\\(|D|P)', text)\n",
    "    text = re.sub('[\\W]+', ' ', text.lower()) + ' '.join(emoticons).replace('-', '')\n",
    "    return text"
   ]
  },
  {
   "cell_type": "code",
   "execution_count": 11,
   "metadata": {
    "collapsed": true
   },
   "outputs": [],
   "source": [
    "data['review'] = data['review'].apply(preprocessor) #Applies the preprocessor function to the data"
   ]
  },
  {
   "cell_type": "markdown",
   "metadata": {},
   "source": [
    "Now let's take a look at this same entry in our preprocessed review data."
   ]
  },
  {
   "cell_type": "code",
   "execution_count": 12,
   "metadata": {
    "collapsed": false
   },
   "outputs": [
    {
     "data": {
      "text/plain": [
       "'i recently bought the dvd forgetting just how much i hated the movie version of a chorus line every change the director attenborough made to the story failed by making the director cassie relationship so prominent the entire ensemble premise of the musical sails out the window some of the musical numbers are sped up and rushed the show s hit song gets the entire meaning shattered when it is given to cassie s character the overall staging is very self conscious the only reason i give it a 2 is because a few of the great numbers are still able to be enjoyed despite the film s attempt to squeeze every bit of joy and spontaneity out of it '"
      ]
     },
     "execution_count": 12,
     "metadata": {},
     "output_type": "execute_result"
    }
   ],
   "source": [
    "data['review'][4]"
   ]
  },
  {
   "cell_type": "markdown",
   "metadata": {},
   "source": [
    "As we can see, the same entry now has no HTML tages and punctuation. All of the characters have also been reduced to lowercase for uniformity."
   ]
  },
  {
   "cell_type": "markdown",
   "metadata": {},
   "source": [
    "## Feature Extraction from Text Data\n",
    "A key problem that appears in NLP applications that involve machine learning is extracting features from text data. In general, this problem involves converting text data into a set of quantitative values or features that summarize the data in a form that machine learning algorithms can actually work with."
   ]
  },
  {
   "cell_type": "markdown",
   "metadata": {},
   "source": [
    "### Quick Definitions\n",
    "Here are some terms that are frequently used throughout this tutorial that we should go ahead and define briefly before we proceed:\n",
    "- **document**: an ordered collection of characters or words that constitute a single instance of text data. Example: a single movie review can count as a document.\n",
    "- **corpus**: a usually large collection of documents that can be used for feature extraction techniques or generalizations on text data.\n",
    "- **n-gram**: a contiguous sequence of **n items** from a sample of text. These items can be words, characters, or even syllables depending on the application.\n",
    "- **unigram**: basically a single word or an **n-gram where n = 1**.\n",
    "- **bigram**: basically a sequence of two continguous words, or an **n-gram where n = 2**."
   ]
  },
  {
   "cell_type": "markdown",
   "metadata": {},
   "source": [
    "### Bag of Words - Looking at the Frequency of Words\n",
    "A popular and simple model for extracting features from text data is the **Bag of Words (BOW)** model. This model gets its name from the underlying assumption that each document can be treated as a **collection of words or n-grams** that does not take into account the order of the words but looks at the frequency of each word. \n",
    "\n",
    "This model is also called the **vector-space model** because it transforms each document in a corpus into a vector, where each component corresponds to the frequency of a particular word from the whole corpus in that specific document. This process is known as **count vectorization**. Let's go through an example to demonstrate how this process works."
   ]
  },
  {
   "cell_type": "code",
   "execution_count": 13,
   "metadata": {
    "collapsed": true
   },
   "outputs": [],
   "source": [
    "from sklearn.feature_extraction.text import CountVectorizer # import CountVectorizer module"
   ]
  },
  {
   "cell_type": "markdown",
   "metadata": {},
   "source": [
    "Now that we have imported the CountVectorizer module, let's go ahead and fit a count vectorizer on a small corpus."
   ]
  },
  {
   "cell_type": "code",
   "execution_count": 14,
   "metadata": {
    "collapsed": false
   },
   "outputs": [
    {
     "data": {
      "text/plain": [
       "CountVectorizer(analyzer='word', binary=False, decode_error='strict',\n",
       "        dtype=<class 'numpy.int64'>, encoding='utf-8', input='content',\n",
       "        lowercase=True, max_df=1.0, max_features=None, min_df=1,\n",
       "        ngram_range=(1, 1), preprocessor=None, stop_words=None,\n",
       "        strip_accents=None, token_pattern='(?u)\\\\b\\\\w\\\\w+\\\\b',\n",
       "        tokenizer=None, vocabulary=None)"
      ]
     },
     "execution_count": 14,
     "metadata": {},
     "output_type": "execute_result"
    }
   ],
   "source": [
    "doc1 = 'I like cats'\n",
    "doc2 = 'I like dogs and cats'\n",
    "doc3 = 'The cats got the rats'\n",
    "corpus = [doc1, doc2, doc3] # the corpus is basically a list of strings (documents)\n",
    "\n",
    "count_vectorizer = CountVectorizer() # Creates a CountVectorizer with default parameters\n",
    "count_vectorizer.fit(corpus) # Fits the count vectorizer on the corpus we just created"
   ]
  },
  {
   "cell_type": "markdown",
   "metadata": {},
   "source": [
    "Now that we have a CountVectorizer object that has been trained on a corpus, there are several operations that we can perform with it. First of all, let's take a look at the our count vectorizer's vocabulary - all of the unique words that the vectorizer found in the corpus."
   ]
  },
  {
   "cell_type": "code",
   "execution_count": 15,
   "metadata": {
    "collapsed": false
   },
   "outputs": [
    {
     "data": {
      "text/plain": [
       "{'and': 0, 'cats': 1, 'dogs': 2, 'got': 3, 'like': 4, 'rats': 5, 'the': 6}"
      ]
     },
     "execution_count": 15,
     "metadata": {},
     "output_type": "execute_result"
    }
   ],
   "source": [
    "count_vectorizer.vocabulary_"
   ]
  },
  {
   "cell_type": "markdown",
   "metadata": {},
   "source": [
    "As we can see above, our vectorizer has seven words in its vocabulary. Single letter words such as \"I\" are not considered by default. The vocabulary is represented as a dictionary where the keys are the words or n-grams (a word is basically a 1-gram) and the values are the index of each word for the vectors of each document. To demonstrate this concept, let's actually convert some sentences to vectors using the **transform** function. Let's transform the first document into a vector."
   ]
  },
  {
   "cell_type": "code",
   "execution_count": 16,
   "metadata": {
    "collapsed": false
   },
   "outputs": [
    {
     "data": {
      "text/plain": [
       "'I like cats'"
      ]
     },
     "execution_count": 16,
     "metadata": {},
     "output_type": "execute_result"
    }
   ],
   "source": [
    "doc1"
   ]
  },
  {
   "cell_type": "code",
   "execution_count": 17,
   "metadata": {
    "collapsed": false
   },
   "outputs": [
    {
     "data": {
      "text/plain": [
       "<1x7 sparse matrix of type '<class 'numpy.int64'>'\n",
       "\twith 2 stored elements in Compressed Sparse Row format>"
      ]
     },
     "execution_count": 17,
     "metadata": {},
     "output_type": "execute_result"
    }
   ],
   "source": [
    "count_vectorizer.transform([doc1])"
   ]
  },
  {
   "cell_type": "markdown",
   "metadata": {},
   "source": [
    "If we try to transform the first document like this, notice how we get a **sparse matrix**. This is because in general, these vectors can become quite large, with many zeros when using a corpus with many words. Our corpus is really small but the transform function still outputs the vector in this format. If we want to actually see the vector, we can convert the sparse matrix to a dense matrix."
   ]
  },
  {
   "cell_type": "code",
   "execution_count": 18,
   "metadata": {
    "collapsed": false
   },
   "outputs": [
    {
     "data": {
      "text/plain": [
       "matrix([[0, 1, 0, 0, 1, 0, 0]])"
      ]
     },
     "execution_count": 18,
     "metadata": {},
     "output_type": "execute_result"
    }
   ],
   "source": [
    "count_vectorizer.transform([doc1]).todense() # Allows us to see the actual values in the vector"
   ]
  },
  {
   "cell_type": "markdown",
   "metadata": {},
   "source": [
    "This vector basically tells us that the words **\"cat\"** and **\"like\"** both appear once in doc1 and the other words in the vocabulary do not appear at all. We can actually take any sentence or document and transform it into a vector with our count vectorizer. **The vectorizer ignores words that are not in its vocabulary.** Here are some examples:"
   ]
  },
  {
   "cell_type": "code",
   "execution_count": 19,
   "metadata": {
    "collapsed": false
   },
   "outputs": [
    {
     "data": {
      "text/plain": [
       "matrix([[1, 1, 1, 0, 1, 1, 0]])"
      ]
     },
     "execution_count": 19,
     "metadata": {},
     "output_type": "execute_result"
    }
   ],
   "source": [
    "count_vectorizer.transform(['I like cats and dogs, but not rats.']).todense() "
   ]
  },
  {
   "cell_type": "code",
   "execution_count": 20,
   "metadata": {
    "collapsed": false
   },
   "outputs": [
    {
     "data": {
      "text/plain": [
       "matrix([[0, 2, 1, 0, 1, 0, 0]])"
      ]
     },
     "execution_count": 20,
     "metadata": {},
     "output_type": "execute_result"
    }
   ],
   "source": [
    "count_vectorizer.transform(['Dogs are cool, but cats are scary! I do not like cats']).todense()"
   ]
  },
  {
   "cell_type": "markdown",
   "metadata": {},
   "source": [
    "### N-Grams and Bag of Words\n",
    "In the previous examples, we were using the count vectorizer with just unigrams or single words. We can adjust the range of n-grams that our vectorizer considers to get different results. The **ngram_range** parameter allows us to pass in a tuple specifying the range of n-grams to consider."
   ]
  },
  {
   "cell_type": "code",
   "execution_count": 21,
   "metadata": {
    "collapsed": false
   },
   "outputs": [
    {
     "data": {
      "text/plain": [
       "CountVectorizer(analyzer='word', binary=False, decode_error='strict',\n",
       "        dtype=<class 'numpy.int64'>, encoding='utf-8', input='content',\n",
       "        lowercase=True, max_df=1.0, max_features=None, min_df=1,\n",
       "        ngram_range=(1, 2), preprocessor=None, stop_words=None,\n",
       "        strip_accents=None, token_pattern='(?u)\\\\b\\\\w\\\\w+\\\\b',\n",
       "        tokenizer=None, vocabulary=None)"
      ]
     },
     "execution_count": 21,
     "metadata": {},
     "output_type": "execute_result"
    }
   ],
   "source": [
    "count_vectorizer_bigram = CountVectorizer(ngram_range=(1,2)) # This will consider unigrams and bigrams\n",
    "count_vectorizer_bigram.fit(corpus)"
   ]
  },
  {
   "cell_type": "code",
   "execution_count": 22,
   "metadata": {
    "collapsed": false
   },
   "outputs": [
    {
     "data": {
      "text/plain": [
       "{'and': 0,\n",
       " 'and cats': 1,\n",
       " 'cats': 2,\n",
       " 'cats got': 3,\n",
       " 'dogs': 4,\n",
       " 'dogs and': 5,\n",
       " 'got': 6,\n",
       " 'got the': 7,\n",
       " 'like': 8,\n",
       " 'like cats': 9,\n",
       " 'like dogs': 10,\n",
       " 'rats': 11,\n",
       " 'the': 12,\n",
       " 'the cats': 13,\n",
       " 'the rats': 14}"
      ]
     },
     "execution_count": 22,
     "metadata": {},
     "output_type": "execute_result"
    }
   ],
   "source": [
    "count_vectorizer_bigram.vocabulary_"
   ]
  },
  {
   "cell_type": "markdown",
   "metadata": {},
   "source": [
    "Notice how our vectorizer now has a larger vocabulary because it not only considers single words (unigrams) but also instances of two adjacent words (bigrams). "
   ]
  },
  {
   "cell_type": "markdown",
   "metadata": {},
   "source": [
    "### TF-IDF: A More Sophisticated Bag of Words Model\n",
    "So far we have only worked with a simple bag of words model where we just count the frequencies of each vocabulary word in each document. However, one problem with this simple approach is that for a large corpus, words that frequently appear in the English language will have larger components when in reality, they do not contribute much to the overall meaning of each document. \n",
    "\n",
    "**TF-IDF**, short for **term frequency-inverse document frequency** is another bag of words approach that attempts to solve this problem. Rather than just computing the raw frequencies of each word in a document, the TF-IDF approach involves multiplying these frequencies by the **inverse** of statistics representing the **frequencies of these words in the entire corpus**. The TF-IDF statistic is basically the **product** of the **term frequency** and **inverse document frequency** statistics as demonstrated in the equation below:\n",
    "\n",
    "\\begin{equation*}\n",
    "TFIDF(t, d, D) = f_{t, d} \\bullet log\\frac{N_D} {n_t}\n",
    "\\end{equation*}\n",
    "\n",
    "Where:\n",
    "- $t$, $d$, and $D$ are the **term (word or n-gram)**, **document**, and **corpus** respectively.\n",
    "- $f_{t,d}$ is the **term-frequency statistic**, which is just the **raw frequency** of the term $t$ in the document $d$.\n",
    "- $N_D$ is the **total number of documents** in the corpus $D$.\n",
    "- $n_t$ is the **number of documents** in which the term $t$ appears.\n",
    "\n",
    "Notice that if a word appears in **every document**, which means $N_D = n_t$, then the TF-IDF statistic for that word will be zero because in that case $\\frac{N_D} {n_t} = 1$ and $log(1) = 0$. This means words in the English language that are very common but do not contribute much to the meaning of the documents will likely have near-zero TF-IDF scores. These words are often called **stop words**. One of the reasons for using this logarithm in the equation is that **stop words** will usually receive scores that are close to, if not equal to zero.\n",
    "\n",
    "#### Running TF-IDF on our small corpus\n",
    "To demonstrate how TF-IDF differs from the simpler Bag of Words approach with just word frequencies, let's try fitting a TFIDF vectorizer on our corpus and transforming the same documents."
   ]
  },
  {
   "cell_type": "code",
   "execution_count": 23,
   "metadata": {
    "collapsed": true
   },
   "outputs": [],
   "source": [
    "from sklearn.feature_extraction.text import TfidfVectorizer"
   ]
  },
  {
   "cell_type": "code",
   "execution_count": 24,
   "metadata": {
    "collapsed": false
   },
   "outputs": [
    {
     "data": {
      "text/plain": [
       "TfidfVectorizer(analyzer='word', binary=False, decode_error='strict',\n",
       "        dtype=<class 'numpy.int64'>, encoding='utf-8', input='content',\n",
       "        lowercase=True, max_df=1.0, max_features=None, min_df=1,\n",
       "        ngram_range=(1, 1), norm='l2', preprocessor=None, smooth_idf=True,\n",
       "        stop_words=None, strip_accents=None, sublinear_tf=False,\n",
       "        token_pattern='(?u)\\\\b\\\\w\\\\w+\\\\b', tokenizer=None, use_idf=True,\n",
       "        vocabulary=None)"
      ]
     },
     "execution_count": 24,
     "metadata": {},
     "output_type": "execute_result"
    }
   ],
   "source": [
    "tfidf = TfidfVectorizer()\n",
    "tfidf.fit(corpus)"
   ]
  },
  {
   "cell_type": "code",
   "execution_count": 25,
   "metadata": {
    "collapsed": false
   },
   "outputs": [
    {
     "data": {
      "text/plain": [
       "'I like cats'"
      ]
     },
     "execution_count": 25,
     "metadata": {},
     "output_type": "execute_result"
    }
   ],
   "source": [
    "doc1"
   ]
  },
  {
   "cell_type": "code",
   "execution_count": 26,
   "metadata": {
    "collapsed": false
   },
   "outputs": [
    {
     "data": {
      "text/plain": [
       "matrix([[0.        , 0.61335554, 0.        , 0.        , 0.78980693,\n",
       "         0.        , 0.        ]])"
      ]
     },
     "execution_count": 26,
     "metadata": {},
     "output_type": "execute_result"
    }
   ],
   "source": [
    "tfidf.transform([doc1]).todense()"
   ]
  },
  {
   "cell_type": "markdown",
   "metadata": {},
   "source": [
    "Notice how we get floating point values rather than integer values for the components corresponding to the words \"cat\" and \"like\". Here are some more examples:"
   ]
  },
  {
   "cell_type": "code",
   "execution_count": 27,
   "metadata": {
    "collapsed": false
   },
   "outputs": [
    {
     "data": {
      "text/plain": [
       "matrix([[0.50461134, 0.29803159, 0.50461134, 0.        , 0.38376993,\n",
       "         0.50461134, 0.        ]])"
      ]
     },
     "execution_count": 27,
     "metadata": {},
     "output_type": "execute_result"
    }
   ],
   "source": [
    "tfidf.transform(['I like cats and dogs, but not rats.']).todense()"
   ]
  },
  {
   "cell_type": "code",
   "execution_count": 28,
   "metadata": {
    "collapsed": false
   },
   "outputs": [
    {
     "data": {
      "text/plain": [
       "matrix([[0.        , 0.68499287, 0.57989687, 0.        , 0.44102652,\n",
       "         0.        , 0.        ]])"
      ]
     },
     "execution_count": 28,
     "metadata": {},
     "output_type": "execute_result"
    }
   ],
   "source": [
    "tfidf.transform(['Dogs are cool, but cats are scary! I do not like cats']).todense()"
   ]
  },
  {
   "cell_type": "markdown",
   "metadata": {},
   "source": [
    "## Sentiment Analysis - Combining Text Transformation and Machine Learning"
   ]
  },
  {
   "cell_type": "markdown",
   "metadata": {
    "collapsed": true
   },
   "source": [
    "Now that we have seen how to extract feature vectors from text data, we can start training machine learning models using those feature vectors.\n",
    "\n",
    "### Train, Test, Split\n",
    "Before we start training machine learning models on the data, we should split our data into a **training set** and a **testing set**. We can do this using SciKit-Learn's **train_test_split** tool."
   ]
  },
  {
   "cell_type": "code",
   "execution_count": 29,
   "metadata": {
    "collapsed": true
   },
   "outputs": [],
   "source": [
    "from sklearn.model_selection import train_test_split"
   ]
  },
  {
   "cell_type": "code",
   "execution_count": 30,
   "metadata": {
    "collapsed": true
   },
   "outputs": [],
   "source": [
    "X = data['review']\n",
    "y = data['sentiment']\n",
    "X_train, X_test, y_train, y_test = train_test_split(X, y, test_size=0.30, random_state=42)"
   ]
  },
  {
   "cell_type": "markdown",
   "metadata": {},
   "source": [
    "### What's going on in the code above?\n",
    "We did the following:\n",
    "\n",
    "- Created a dataframe **X** to represent the **features of the data** that we will train the model on.\n",
    "- Created a dataframe **y** to represent the **target variable** (whether the review is positive or negative).\n",
    "- Created four dataframes using train_test_split:\n",
    "    - **X_train**: represents the features in training data.\n",
    "    - **X_test**: represents the features in testing data.\n",
    "    - **y_train**: represents the target values in training data.\n",
    "    - **y_test**: represents the target values in testing data.\n",
    "    \n",
    "### How train_test_split works\n",
    "\n",
    "The train_test_split function takes our features (X) and our target values (y) and splits them into training and testing sets.\n",
    "- **test_size**: Represents the proportion of the data that will be used to test the data.\n",
    "- **random_state**: Just a random seed for randomly performing the split. "
   ]
  },
  {
   "cell_type": "markdown",
   "metadata": {},
   "source": [
    "### Naive Bayes for Sentiment Classification\n",
    "Naive bayes is a very simple classification algorithm with fast training times and generally good performance for text classification tasks. It involves applying Bayes' Theorem with the \"naive\" assumption that all of the features are independent from each other. Naive bayes is based on the concept of conditional probability. Given an instance of $n$ features $x = (x_1, ... x_n)$ and a set of $k$ classes $C = (C_1, ..., C_k)$, this algorithm assigns conditional probabilities in the following form for each of the $k$ classes:\n",
    "\n",
    "\\begin{equation*}\n",
    "p(C_k \\space| \\space (x_1, ..., x_n))\n",
    "\\end{equation*}\n",
    "\n",
    "The expression above basically represents the probability of the class $C_k$ given the features in $x$. In the context of our sentiment analysis problem, there are two classes (1 and 0) where one represents a positive review and the other represents a negative review. The feature vector $x$ for this problem is basically the TF-IDF vector with the scores for each word in the corpus for a particular review. \n",
    "\n",
    "Bayes' Theorem, with reference to this conditional probability is:\n",
    "\n",
    "\\begin{equation*}\n",
    "p(C_k \\space| \\space x) = \\frac{p(C_k)p(x \\space | \\space C_k)}{p(x)}\n",
    "\\end{equation*}\n",
    "\n",
    "Basically, this theorem, in the context of our problem, states that the probability of a review being belonging to a specific class $C_k$ (ie. positive or negative) is equal to the probability of the class $C_k$ multiplied by the probability of the TF-IDF vector $x$ given that it belongs to the class $C_k$ divided by the probability of the TF-IDF vector $x$.\n",
    "\n",
    "We can expand the conditional probability of the TF-IDF vector as a product of each of the conditional probabilities of each of its components with respect to the class $C_k$. Let's assume that the vector $x$ has the components $x_1$, $x_2$, ... $x_n$. Then our equation becomes:\n",
    "\n",
    "\\begin{equation*}\n",
    "p(C_k \\space | \\space x) = \\frac{p(C_k)p(x_1 \\space | \\space C_k)p(x_2 \\space | \\space C_k)...p(x_n \\space| \\space C_k)}{p(x_1)p(x_2)...p(x_n)}\n",
    "\\end{equation*}\n",
    "\n",
    "We can expand $p(x)$ and $p(x \\space | \\space C_k)$ as products because naive bayes is based on the \"naive\" assumption that **each of our features are independent**.\n",
    "\n",
    "Given these equations and a TF-IDF vector for a given review, the naive bayes algorithm involves calculating the conditional probability of each possible class given the features in the vector and then selecting the **class with the highest conditional probability**.\n",
    "\n",
    "#### Calculating the probability of each feature\n",
    "One question that remains in our discussion of this algorithm is how can we can actually calculate the probability of each feature in the TF-IDF vector? There are a few different versions of naive bayes that use different probability distributions to calculate the probability of each feature.\n",
    "\n",
    "#### Gaussian Naive Bayes - The Normal/Gaussian Distribution\n",
    "Gaussian naive bayes, which is perhaps the simplest, assumes that each feature belongs to a **normal** or **gaussian** distribution. The behavior of the normal distribution is determined by two parameters, the **mean** and the **standard deviation**. A standard normal distribution has a **mean of 0** and a **standard deviation of 1**. The standard normal distribution can be graphed using the following equation (the PDF or probability density function of the distribution):\n",
    "\n",
    "\\begin{equation*}\n",
    "f(z) = e^{(\\frac {-z^2}{2})}\n",
    "\\end{equation*}"
   ]
  },
  {
   "cell_type": "code",
   "execution_count": 31,
   "metadata": {
    "collapsed": false
   },
   "outputs": [
    {
     "data": {
      "text/plain": [
       "<matplotlib.text.Text at 0x1159f36a0>"
      ]
     },
     "execution_count": 31,
     "metadata": {},
     "output_type": "execute_result"
    },
    {
     "data": {
      "image/png": "[encoded data removed]",
      "text/plain": [
       "<matplotlib.figure.Figure at 0x1159c65c0>"
      ]
     },
     "metadata": {},
     "output_type": "display_data"
    }
   ],
   "source": [
    "z_values = np.linspace(-3,3,num=1000)\n",
    "function_values = np.exp(-1 * (z_values **2 )/2) # Plotting the function above\n",
    "plt.plot(z_values, function_values)\n",
    "plt.title(\"The Standard Normal Curve\")"
   ]
  },
  {
   "cell_type": "markdown",
   "metadata": {},
   "source": [
    "In order to scale this curve to data without a mean of 0 and a standard deviation of 1, we can take each observation $ x $ and calculate the z-score $z$ based on the mean $\\mu$ and the standard deviation $\\sigma$. \n",
    "\n",
    "\\begin{equation*}\n",
    "z = \\frac {x - \\mu} {\\sigma}\n",
    "\\end{equation*}\n",
    "\n",
    "The resulting PDF, which results from substituting the expression above for z, is as follows:\n",
    "\n",
    "\\begin{equation*}\n",
    "f(x) = e^{{- (\\frac {x - \\mu} {2\\sigma})^2}}\n",
    "\\end{equation*}\n",
    "\n",
    "We can calculate the probability of a range of values by finding the area under the curve for this range of values. Because the probability of a single value is not defined in such a distribution, we can split the distribution into ranges or quantiles and find the probability of the a value fitting into a specific range."
   ]
  },
  {
   "cell_type": "markdown",
   "metadata": {},
   "source": [
    "#### Multinomial Naive Bayes - using the multinomial distribution\n",
    "This variant of naive bayes is commonly used in text classification and assumes that the features belong to a multinomial distribution. The distribution is parameterized by the vectors $ \\theta_{y} = (\\theta_{y1}, ... \\theta_{yn})$ where $n$ is the number of features (in our case the size of the vocabulary) and $y$ is the class for which we are computing the vector, and $\\theta_{yi}$ is the probability $p(x_i | y)$ of feature $i$ appearing in a sample belonging to the class $y$.\n",
    "\n",
    "The parameters $\\theta_{y}$ are estimated using the following equation:\n",
    "\n",
    "\\begin{equation*}\n",
    "\\hat \\theta_{yi} = \\frac {N_{yi} + \\alpha} {N_{y} + \\alpha n}\n",
    "\\end{equation*}\n",
    "\n",
    "Where $N_{yi}$ is the number of times feature $i$ appears in a sample of class $y$ in the training data and $N_{y}$ is the total count of all features for class $y$. The parameter $\\alpha$ is a **smoothing parameter** that is used to prevent zero probabilities for features not present in learning samples."
   ]
  },
  {
   "cell_type": "markdown",
   "metadata": {},
   "source": [
    "#### Bernoulli Naive Bayes - using the Bernoulli distribution \n",
    "Bernoulli naive bayes is based on the assumption that the features belong to a Bernoulli distribution. This distribution treats each feature as a binary-valued (boolean or Bernoulli) variable. The possible outcomes are essentially 1 (success) or 0 (failure) and the distribution is parameterized by a probability $p$ of success. Since TF-IDF vectors do not contain binary features, a Bernoulli naive bayes classifier will automatically binarize these features by dividing the feature range. "
   ]
  },
  {
   "cell_type": "markdown",
   "metadata": {},
   "source": [
    "#### Combining TF-IDF and Naive Bayes Using a Pipeline"
   ]
  },
  {
   "cell_type": "code",
   "execution_count": 32,
   "metadata": {
    "collapsed": true
   },
   "outputs": [],
   "source": [
    "from sklearn.naive_bayes import MultinomialNB # We will be using Multinomial Naive Bayes here\n",
    "from sklearn.pipeline import Pipeline"
   ]
  },
  {
   "cell_type": "code",
   "execution_count": 33,
   "metadata": {
    "collapsed": false
   },
   "outputs": [
    {
     "data": {
      "text/plain": [
       "Pipeline(memory=None,\n",
       "     steps=[('tfidf', TfidfVectorizer(analyzer='word', binary=False, decode_error='strict',\n",
       "        dtype=<class 'numpy.int64'>, encoding='utf-8', input='content',\n",
       "        lowercase=True, max_df=1.0, max_features=None, min_df=1,\n",
       "        ngram_range=(1, 1), norm='l2', preprocessor=None, smooth_idf=True,\n",
       " ...     vocabulary=None)), ('naive_bayes', MultinomialNB(alpha=1.0, class_prior=None, fit_prior=True))])"
      ]
     },
     "execution_count": 33,
     "metadata": {},
     "output_type": "execute_result"
    }
   ],
   "source": [
    "nb_pipeline = Pipeline([('tfidf', TfidfVectorizer()), ('naive_bayes', MultinomialNB())])\n",
    "nb_pipeline.fit(X_train, y_train)"
   ]
  },
  {
   "cell_type": "markdown",
   "metadata": {},
   "source": [
    "### Evaluating our TF-IDF/Naive Bayes Algorithm"
   ]
  },
  {
   "cell_type": "code",
   "execution_count": 34,
   "metadata": {
    "collapsed": true
   },
   "outputs": [],
   "source": [
    "from sklearn.metrics import classification_report,accuracy_score"
   ]
  },
  {
   "cell_type": "code",
   "execution_count": 35,
   "metadata": {
    "collapsed": false
   },
   "outputs": [
    {
     "name": "stdout",
     "output_type": "stream",
     "text": [
      "             precision    recall  f1-score   support\n",
      "\n",
      "          0       0.89      0.85      0.87      7821\n",
      "          1       0.85      0.89      0.87      7179\n",
      "\n",
      "avg / total       0.87      0.87      0.87     15000\n",
      "\n",
      "Accuracy on test set: 86.84666666666668 %\n"
     ]
    }
   ],
   "source": [
    "pred = nb_pipeline.predict(X_test)\n",
    "print(classification_report(pred, y_test))\n",
    "print('Accuracy on test set: {} %'.format(100*accuracy_score(pred, y_test)))"
   ]
  },
  {
   "cell_type": "markdown",
   "metadata": {},
   "source": [
    "Even with a relatively simple naive bayes approach, our classifier achieved over 86% accuracy on the test set. Here is what the other metrics mean:\n",
    "\n",
    "- **precision**: the ratio of correctly predicted positive observations (true positives) to the total predicted positive observations. For example in the row labeled 1 above, this is the number of times our model correctly predicted a positive review divided by the total number of times our model predicted a positive review.\n",
    "- **recall**: the ratio of correctly predicted positive observations to all observations actually in that class. For example, in row 1, this is number of times our model correctly predicted a positive review divided by the actual number of positive reviews.\n",
    "- **f1-score**: the harmonic mean of precision and recall. The harmonic mean is often roughly equivalent to the average of two values in most cases.\n",
    "\n",
    "The f1-score is given by the following equation:\n",
    "\n",
    "\\begin{equation*}\n",
    "F_{1} = 2 \\bullet \\frac{precision \\bullet recall} {precision + recall}\n",
    "\\end{equation*}"
   ]
  },
  {
   "cell_type": "code",
   "execution_count": 36,
   "metadata": {
    "collapsed": false
   },
   "outputs": [
    {
     "data": {
      "text/plain": [
       "array([1])"
      ]
     },
     "execution_count": 36,
     "metadata": {},
     "output_type": "execute_result"
    }
   ],
   "source": [
    "nb_pipeline.predict(['That was a great movie!'])"
   ]
  },
  {
   "cell_type": "code",
   "execution_count": 37,
   "metadata": {
    "collapsed": false
   },
   "outputs": [
    {
     "data": {
      "text/plain": [
       "array([0])"
      ]
     },
     "execution_count": 37,
     "metadata": {},
     "output_type": "execute_result"
    }
   ],
   "source": [
    "nb_pipeline.predict(['That was a terrible movie!'])"
   ]
  },
  {
   "cell_type": "code",
   "execution_count": null,
   "metadata": {
    "collapsed": true
   },
   "outputs": [],
   "source": [
    "from sklearn.naive_bayes import BernoulliNB\n"
   ]
  },
  {
   "cell_type": "markdown",
   "metadata": {},
   "source": [
    "### Logistic Regression for Sentiment Classification\n",
    "Unlike what the name suggest, **logistic regression** is designed specifically for **classification** and is especially suited for **binary classification** problems. The real **\"regression\"** in logistic regression involves finding the best values in a weight vector that is used to compute a weighted sum of the input features. This weighted sum is then passed to a function called the **sigmoid function** also known as the **logistic function**. This function has a special property where it takes any real-valued input and outputs a continuous value between 0 and 1. In general, if the output of this function is below 0.5 we can assign the input to class 0 and if the output is greater than or equal to 0.5, we can assign the input to class 1.\n",
    "\n",
    "### How Logistic Regression Works\n",
    "The **logistic function** is defined as:\n",
    "\n",
    "\\begin{equation*}\n",
    "\\phi (z) = \\frac {1} {1+e^{-z}}\n",
    "\\end{equation*}\n",
    "\n",
    "To better illustrate the concept of the **logistic function**, the function has been plotted below in the interval [-10, 10]. Notice how the function forms an S-shaped curve with horizonal asymptotes at y = 0 and y = 1. What's special about this function is that it can take any real value and output a value between 0 and 1, which is really useful for representing probabilities."
   ]
  },
  {
   "cell_type": "code",
   "execution_count": 37,
   "metadata": {
    "collapsed": false
   },
   "outputs": [
    {
     "data": {
      "text/plain": [
       "[<matplotlib.lines.Line2D at 0x114348f28>]"
      ]
     },
     "execution_count": 37,
     "metadata": {},
     "output_type": "execute_result"
    },
    {
     "data": {
      "image/png": "[encoded data removed]",
      "text/plain": [
       "<matplotlib.figure.Figure at 0x114325898>"
      ]
     },
     "metadata": {},
     "output_type": "display_data"
    }
   ],
   "source": [
    "X_values = np.linspace(-10, 10, 100)\n",
    "y_values = 1/(1 + np.exp(-1*X_values))\n",
    "plt.plot(X_values, y_values, color='Blue')"
   ]
  },
  {
   "cell_type": "markdown",
   "metadata": {},
   "source": [
    "#### Where this function comes from - log odds (logit)\n",
    "This function comes from the concept of the odds ratio in probability, which for a probability p, of a given event, is defined as:\n",
    "\\begin{equation*}\n",
    "odds(p) = \\frac {p} {(1-p)}\n",
    "\\end{equation*}\n",
    "\n",
    "For example, if you hear someone say the odds of an event are 1:1, then that means there is a 50% chance of that event happening.\n",
    "\n",
    "By taking the natural logarithm (ln) of both sides, we can define the **logit** or **log odds** function. \n",
    "\\begin{equation*}\n",
    "logit(p) = ln \\frac {p} {(1-p)}\n",
    "\\end{equation*}\n",
    "\n",
    "The **logistic function** which we defined earlier is actually the **inverse** of the **logit** function. \n",
    "\n",
    "#### Applying the Logistic Function to a Weighted Sum of Features\n",
    "The logistic regression model is based on the following equation:\n",
    "\n",
    "\\begin{equation*}\n",
    "logit \\ (p(y=1 \\ | \\ x)) = w_0 x_0 + w_1 x_1 + ... + w_m x_m = \\sum_{i=0}^n w_m x_m = w^T x\n",
    "\\end{equation*}\n",
    "\n",
    "Where:\n",
    "- $ x = (x_0, x_1, ..., x_n) $ represents the input in the form of a vector of features given to the model.\n",
    "- $ p(y=1 \\ | \\ x) $ is the conditional probability that given an input $ x $, the data point belongs to the class $ y = 1 $. For our case, this is probability that given the values of variables like Gender, Age, Class, etc. that a person survived the Titanic.\n",
    "- $ w = (w_0, w_1, ..., w_n) $ represents a vector of numerical weights that will be used to compute the weighted sum of the inputs.\n",
    "- $ w^T x $ is just a short way to write the weighted sum of the features using matrix notation. Since x and w are actually just one dimensional matrices (vectors), this is basically equivalent to taking the dot product of x and w (multiply each feature by each corresponding weight and add them up!).\n",
    "\n",
    "By applying the **logistic function** to **both sides** of the equation above we get the following result:\n",
    "\n",
    "\\begin{equation*}\n",
    "p(y=1 \\ | \\ x) = \\phi(w^T x)\n",
    "\\end{equation*}\n",
    "\n",
    "This basically means that the output that comes from applying this function to a weighted sum of the features gives us the probability that an observation belongs to the class 1. In our case, the raw output from the model when making a prediction will give us the probability that a person survived the titanic. Hence, if this probability is **greater than our equal to 0.5** (**50% or more chance** they survived) then our model predicts that the person survived. Otherwise, the model predicts that the person did not survive.\n",
    "\n",
    "#### How to logistic regression generates class predictions\n",
    "The class predictions that come out of a logistic regression model are based on the following equation:\n",
    "\n",
    "$$\n",
    "y =\n",
    "  \\begin{cases}\n",
    "    1 &\\text{if } \\phi(w^T x) \\ge 0.5\\\\\n",
    "    0 &\\text{if } \\phi(w^T x) < 0.5\n",
    "  \\end{cases}\n",
    "$$\n",
    "\n",
    "#### How the model learns the weights\n",
    "The process of \"learning\" in logistic regression involves determining the **optimal weights** in the weight vector to **minimize** a cost function defined below for a weight vector $w$:\n",
    "\n",
    "\\begin{equation*}\n",
    "Cost(w) = \\sum_{i=0}^n \\frac {1} {2} (\\hat y_i - y_i)^2 + \\frac {\\lambda} {2} \\sum_{j=1}^m |w_{j}^2|\n",
    "\\end{equation*}\n",
    "\n",
    "Note that the first part of this function is essentially half the sum of squared errors between the predicted values (classes) denoted as $\\hat y_i$ for the ith observation in the data and the actual values, denoted as $y_i$ for the ith observation in the data. For a given weight vector $w$ and an input $x_i$ we know that $\\hat y_i = \\phi(w^T x_i)$ based on the equation for the logistic regression algorithm. The second half of the equation, $ \\frac {\\lambda} {2} \\sum_{j=1}^m w_{j}^2 $ is known as the regularization term and is used to control the values of weights by adding a constant times the square of the magnitude of the weight vector to the cost function.\n",
    "\n",
    "#### Why do we call it a cost function? What is the purpose of a cost function?\n",
    "The cost function is used to quantify how bad our classifier is doing at making predictions on training data. Cost functions are sometimes called **loss functions** but the idea is the same - both tell us how bad our classifier is doing and in general, we want to **minimize** the values of these functions, which is like minimizing a cost or loss. In algorithms that involve learning numerical weights, cost functions give our algorithms a metric for which to learn the optimal weights.\n",
    "\n",
    "#### How do we actually minimize the cost function\n",
    "The process of minimizing the cost function involves an optimization process known as **gradient descent**. The idea behind gradient descent is that we can exploit the fact that our cost function is quadratic by looking at the direction in which our cost function is changing with respect to the weights (basically a derivative) and update our weights in a manner that causes our cost function to continue decreasing until we reach the global minimum, or the vertex of our quadratic curve. The mathematical details of this optimization method are out of the scope of this workshop, but are commonly used in deep learning and if you are interested, you can read more here: http://ml-cheatsheet.readthedocs.io/en/latest/gradient_descent.html\n",
    "\n",
    "#### What is regularization? \n",
    "Regularization is a common practice in machine learning used to control **overfitting** - the situation in which a model becomes too constrained to the patterns in the training data and fails to generalize to unseen data. Regularization works by adding a term that involves the magnitude of the weight vector to the cost function. Doing so penalizes larger weights and prevents any one feature from receiving too much weight in the model. There are two common types of regularization used for logistic regression and those are L2 and L1 regularization. \n",
    "\n",
    "- **L2 Regularization**: This form of regularization is the same as regularization used in the original cost function above and involves the regularization term $ \\frac {\\lambda} {2} \\sum_{j=1}^m w_{j}^2 $.\n",
    "- **L1 Regularization**: This form of regularization involves a different regularization term $ \\frac {\\lambda} {2} \\sum_{j=1}^m |w_{j}| $. The difference here is that we are summing the absolute values of each weight and multipyling by a constant. L1 regularization tends to produce weight vectors where less important features have weights that are close to, if not exactly zero. For this reason, this type of regularization is often good for feature selection.\n",
    "\n",
    "The constant related to logistic regression that we use to optimize the amount of regularization is referred to as $ C $ and is related to the regularization parameter $ \\lambda $ by the following equation:\n",
    "\n",
    "\\begin{equation*}\n",
    "C = \\frac {1} {\\lambda}\n",
    "\\end{equation*}\n",
    "\n",
    "When training a logistic regression model in SciKit-Learn we can pass in values for C and specify the type of regularization that we want to use."
   ]
  },
  {
   "cell_type": "markdown",
   "metadata": {},
   "source": [
    "### Training a Logistic Regression Model"
   ]
  },
  {
   "cell_type": "code",
   "execution_count": 40,
   "metadata": {
    "collapsed": true
   },
   "outputs": [],
   "source": [
    "from sklearn.linear_model import LogisticRegression"
   ]
  },
  {
   "cell_type": "code",
   "execution_count": 45,
   "metadata": {
    "collapsed": false
   },
   "outputs": [
    {
     "data": {
      "text/plain": [
       "Pipeline(memory=None,\n",
       "     steps=[('tfidf', TfidfVectorizer(analyzer='word', binary=False, decode_error='strict',\n",
       "        dtype=<class 'numpy.int64'>, encoding='utf-8', input='content',\n",
       "        lowercase=True, max_df=1.0, max_features=None, min_df=1,\n",
       "        ngram_range=(1, 1), norm='l2', preprocessor=None, smooth_idf=True,\n",
       " ...ty='l2', random_state=None, solver='liblinear', tol=0.0001,\n",
       "          verbose=0, warm_start=False))])"
      ]
     },
     "execution_count": 45,
     "metadata": {},
     "output_type": "execute_result"
    }
   ],
   "source": [
    "lr_pipeline = Pipeline([('tfidf', TfidfVectorizer()), ('lr', LogisticRegression(C=1))])\n",
    "lr_pipeline.fit(X_train, y_train)"
   ]
  },
  {
   "cell_type": "code",
   "execution_count": 46,
   "metadata": {
    "collapsed": false
   },
   "outputs": [
    {
     "name": "stdout",
     "output_type": "stream",
     "text": [
      "             precision    recall  f1-score   support\n",
      "\n",
      "          0       0.89      0.90      0.90      7367\n",
      "          1       0.91      0.89      0.90      7633\n",
      "\n",
      "avg / total       0.90      0.90      0.90     15000\n",
      "\n",
      "Accuracy on test set: 89.64666666666666 %\n"
     ]
    }
   ],
   "source": [
    "pred = lr_pipeline.predict(X_test)\n",
    "print(classification_report(pred, y_test))\n",
    "print('Accuracy on test set: {} %'.format(100*accuracy_score(pred, y_test)))"
   ]
  },
  {
   "cell_type": "markdown",
   "metadata": {},
   "source": [
    "### Determining the Optimal Regularization Parameters"
   ]
  },
  {
   "cell_type": "code",
   "execution_count": null,
   "metadata": {
    "collapsed": true
   },
   "outputs": [],
   "source": []
  }
 ],
 "metadata": {
  "anaconda-cloud": {},
  "kernelspec": {
   "display_name": "Python [conda root]",
   "language": "python",
   "name": "conda-root-py"
  },
  "language_info": {
   "codemirror_mode": {
    "name": "ipython",
    "version": 3
   },
   "file_extension": ".py",
   "mimetype": "text/x-python",
   "name": "python",
   "nbconvert_exporter": "python",
   "pygments_lexer": "ipython3",
   "version": "3.5.2"
  }
 },
 "nbformat": 4,
 "nbformat_minor": 2
}
